{
 "cells": [
  {
   "cell_type": "code",
   "execution_count": 1,
   "metadata": {},
   "outputs": [],
   "source": [
    "from db import connect_to_db\n",
    "import json\n",
    "import mysql.connector\n",
    "\n",
    "db = connect_to_db()"
   ]
  },
  {
   "cell_type": "code",
   "execution_count": 2,
   "metadata": {},
   "outputs": [],
   "source": [
    "class create_dict(dict): \n",
    "  \n",
    "    # __init__ function \n",
    "    def __init__(self): \n",
    "        self = dict() \n",
    "          \n",
    "    # Function to add key:value \n",
    "    def add(self, key, value): \n",
    "        self[key] = value"
   ]
  },
  {
   "cell_type": "code",
   "execution_count": null,
   "metadata": {},
   "outputs": [],
   "source": [
    "all_fiere_dict = create_dict()\n",
    "for row in all_fiere:\n",
    "    all_fiere_dict.add(row[0],({\n",
    "        \"name_conference\":row[0],\n",
    "        \"city\":row[1],\n",
    "        \"address\":row[2],\n",
    "        \"date\":row[3],\n",
    "        \"website\":row[4],\n",
    "        \"map\":row[5],\n",
    "        \"download_map\":row[6],\n",
    "        \"id_conference\":row[7],}))"
   ]
  },
  {
   "cell_type": "code",
   "execution_count": 5,
   "metadata": {},
   "outputs": [
    {
     "data": {
      "text/plain": [
       "{'145': {'n_stand': '145',\n",
       "  'name_stand': 'AMARO – TATTOOS',\n",
       "  'category': 'Tattoos',\n",
       "  'description': 'Empty',\n",
       "  'n_pavilion': '21',\n",
       "  'website': 'https://www.instagram.com/amaro_tattoos/?hl=it'}}"
      ]
     },
     "execution_count": 5,
     "metadata": {},
     "output_type": "execute_result"
    }
   ],
   "source": [
    "\n",
    "query_where= 'n_stand'\n",
    "query_id= 145\n",
    "query_id.replace(\"%20\",\" \")\n",
    "query = \"SELECT * FROM stand WHERE {}={}\"\n",
    "cur = db.cursor()\n",
    "cur.execute(query.format(query_where,query_id))\n",
    "results = cur.fetchall()\n",
    "my_dict = create_dict()\n",
    "for row in results:\n",
    "    my_dict.add(row[0],({\n",
    "        \"n_stand\":row[0],\n",
    "        \"name_stand\":row[1],\n",
    "        \"category\":row[2],\n",
    "        \"description\":row[3],\n",
    "        \"n_pavilion\":row[4],\n",
    "        \"website\":row[5]}))\n",
    "\n",
    "results_json = json.dumps(my_dict)\n",
    "my_dict\n"
   ]
  },
  {
   "cell_type": "code",
   "execution_count": 3,
   "metadata": {},
   "outputs": [
    {
     "data": {
      "text/plain": [
       "'NerdShow'"
      ]
     },
     "execution_count": 3,
     "metadata": {},
     "output_type": "execute_result"
    }
   ],
   "source": [
    "query_id= 'NerdShow'\n",
    "query_id = query_id.replace(\"%20\",\" \")\n",
    "query_id"
   ]
  },
  {
   "cell_type": "code",
   "execution_count": 23,
   "metadata": {},
   "outputs": [
    {
     "data": {
      "text/plain": [
       "{'145': {'n_stand': '145',\n",
       "  'name_stand': 'AMARO – TATTOOS',\n",
       "  'category': 'Tattoos',\n",
       "  'descritpion': None,\n",
       "  'n_pavilion': '21',\n",
       "  'website': 'https://www.instagram.com/amaro_tattoos/?hl=it'},\n",
       " '148': {'n_stand': '148',\n",
       "  'name_stand': 'CHLEXART & TOTE. ACKERMAN',\n",
       "  'category': None,\n",
       "  'descritpion': None,\n",
       "  'n_pavilion': '21',\n",
       "  'website': None},\n",
       " '149': {'n_stand': '149',\n",
       "  'name_stand': 'FANTASTICHE PACCOTTIGLIE',\n",
       "  'category': 'Accessori',\n",
       "  'descritpion': None,\n",
       "  'n_pavilion': '21',\n",
       "  'website': 'https://www.instagram.com/fantastiche.paccottiglie/?hl=it'},\n",
       " '164': {'n_stand': '164',\n",
       "  'name_stand': 'BAGIGIO STORE',\n",
       "  'category': 'Negozio vintage',\n",
       "  'descritpion': None,\n",
       "  'n_pavilion': '21',\n",
       "  'website': 'https://www.vinted.it/member/56873065-lauraalbiero\\r\\n'},\n",
       " '170': {'n_stand': '170',\n",
       "  'name_stand': 'GIOCATTOPOLI.COM',\n",
       "  'category': 'Giocattoli',\n",
       "  'descritpion': 'Nasce dalla passione per i giocattoli. Nel 2015 abbiamo aperto il nostro negozio fisico a Roma, dove potete trovare migliaia di articoli come da nostro catalogo.',\n",
       "  'n_pavilion': '21',\n",
       "  'website': 'https://www.giocattopoli.com/'},\n",
       " '181': {'n_stand': '181',\n",
       "  'name_stand': 'HUNTER GAMES',\n",
       "  'category': 'Fumetti',\n",
       "  'descritpion': 'Carte, Playmat, Accessori da gioco, Action Figures, Funko Pop, Giochi da tavolo, Fumetti e tanto altro.',\n",
       "  'n_pavilion': '21',\n",
       "  'website': 'https://www.facebook.com/Hunter.GamesCp.Official/'},\n",
       " '189': {'n_stand': '189',\n",
       "  'name_stand': 'FANNIE',\n",
       "  'category': 'Vestiti',\n",
       "  'descritpion': 'Lo Shop di Fanny nasce dalla voglia di interagire con i clienti del mondo virtuale.\\r\\nLa mia azienda propone una vasta gamma di articoli , ma  sopratutto propongo abbigliamento per le donne che come hanno le curve, ',\n",
       "  'n_pavilion': '21',\n",
       "  'website': 'https://www.loshopdifanny.com/'},\n",
       " '191': {'n_stand': '191',\n",
       "  'name_stand': 'FELES CREATIONS',\n",
       "  'category': 'Accessori',\n",
       "  'descritpion': 'Tra videogiochi, fumetti e gatti, creo a mano accessori per te e per la tua casa a tema nerd e kawaii',\n",
       "  'n_pavilion': '21',\n",
       "  'website': 'https://felescreations.com/'},\n",
       " '197': {'n_stand': '197',\n",
       "  'name_stand': 'ESCALIBUR',\n",
       "  'category': 'Giochi da tavolo',\n",
       "  'descritpion': 'Excalibur Games apre nel 2013, nascendo dalla passione per il mondo dei giochi da tavolo e dall’esperienza decennale nel mondo di Magic the Gathering. Siamo diventati uno dei più grandi negozi della Lombardia specializzati, che tratta GIOCHI DA TAVOLO per',\n",
       "  'n_pavilion': '21',\n",
       "  'website': 'https://www.excaliburgames.eu/'},\n",
       " '200': {'n_stand': '200',\n",
       "  'name_stand': 'DREAMONLINE',\n",
       "  'category': 'RIPARAZIONI SMARTPHONE',\n",
       "  'descritpion': 'Dreamonline di Giacomo Oliveri ® è un’azienda specializzata nella riparazione di smartphones e tablet ed in particolare di iPhone e iPad.',\n",
       "  'n_pavilion': '21',\n",
       "  'website': 'https://www.iphonerottomilano.it/'},\n",
       " '207': {'n_stand': '207',\n",
       "  'name_stand': 'EL MUNEQUERO TENERIFE',\n",
       "  'category': 'Pupazzi',\n",
       "  'descritpion': \"L'impresa nasce a Tenerife, da un'idea del proprietario, che unisce la passione per la modellazione a quella del comics. Il materiale usato è l'argilla polimerica, i colori brillanti si sposano perfettamente con la tipologia del nostro prodotto. Sono pupa\",\n",
       "  'n_pavilion': '21',\n",
       "  'website': 'https://www.facebook.com/artisaniatenerife/?locale=it_IT'},\n",
       " '218': {'n_stand': '218',\n",
       "  'name_stand': 'DYNIT',\n",
       "  'category': 'Anime e Manga',\n",
       "  'descritpion': 'DYNIT è una full service film company specializzata nell’animazione giapponese, cartoni animati e live action movies, le cui attività spaziano nella distribuzione, edizione, licensing, publishing.',\n",
       "  'n_pavilion': '21',\n",
       "  'website': 'https://www.dynit.it/'},\n",
       " '232': {'n_stand': '232',\n",
       "  'name_stand': 'BACK TO THE SNES',\n",
       "  'category': 'Videogiochi',\n",
       "  'descritpion': 'Commerciante di retrogaming e videgiochi\\r\\nAppassionato di Game Boy\\r\\nModder e restauratore',\n",
       "  'n_pavilion': '21',\n",
       "  'website': 'https://www.facebook.com/backtothesnes/?locale=it_IT'},\n",
       " '241': {'n_stand': '241',\n",
       "  'name_stand': 'ALTALENA SULLA LUNA ',\n",
       "  'category': 'Accessori',\n",
       "  'descritpion': '',\n",
       "  'n_pavilion': '21',\n",
       "  'website': 'https://www.instagram.com/altalenasullaluna/?hl=it'},\n",
       " '256': {'n_stand': '256',\n",
       "  'name_stand': 'AMERICANCRUNCH',\n",
       "  'category': 'Food',\n",
       "  'descritpion': 'American Crunch ti offre un vastissimo assortimento di prodotti 100% americani. Bibite ed energy drink, cibi dolci o salati, salse, gadget e accessori e tante box per fare davvero il pieno dei tuoi snack preferiti.',\n",
       "  'n_pavilion': '21',\n",
       "  'website': 'https://www.americancrunch.it/'},\n",
       " '258': {'n_stand': '258',\n",
       "  'name_stand': 'FILMALIBRI',\n",
       "  'category': ' segnalibri',\n",
       "  'descritpion': 'Diffondo la magia del cinema e sblocco ricordi attraverso le mie realizzazioni in vera pellicola cinematografica.',\n",
       "  'n_pavilion': '21',\n",
       "  'website': 'https://filmalibri.it/'},\n",
       " '259': {'n_stand': '259',\n",
       "  'name_stand': 'BABOU DI BARBARA D’ALESSANDRO ',\n",
       "  'category': 'Accessori',\n",
       "  'descritpion': 'Ecommerce dal 2007 - Content Creator dal 2018\\r\\nHo iniziato a lavorare nel digitale per gestire il mio tempo e poter vedere crescere i miei figli. Ho visto clienti trasformarsi in collaboratrici e hobby trasformarsi in lavori.\\r\\n\\r\\nPoi Youtube mi ha stravolt',\n",
       "  'n_pavilion': '21',\n",
       "  'website': 'https://barbaradalessandro.com/'},\n",
       " '264': {'n_stand': '264',\n",
       "  'name_stand': 'ALCHEMIAN – IN NERD WE TRUST ',\n",
       "  'category': 'Abbigliamento',\n",
       "  'descritpion': 'Alchemian è una attività made in Italy incentrata principalmente su stampa e ricamo di abbigliamento e svariati accessori pensati e ispirati alla cultura nerd a 360°',\n",
       "  'n_pavilion': '21',\n",
       "  'website': 'https://www.alchemianshop.it/'},\n",
       " '302': {'n_stand': '302',\n",
       "  'name_stand': 'ACTIONFIGURESREALM',\n",
       "  'category': 'Action figure',\n",
       "  'descritpion': 'Gruppo di tre amici uniti dalla passione comune per il collezionismo legato ad anime, manga, comics, movie e videogames.',\n",
       "  'n_pavilion': '21',\n",
       "  'website': 'https://www.actionfiguresrealm.com/'},\n",
       " '309B': {'n_stand': '309B',\n",
       "  'name_stand': 'FANDOMPIXS',\n",
       "  'category': 'Stampe personalizzate',\n",
       "  'descritpion': None,\n",
       "  'n_pavilion': '21',\n",
       "  'website': 'https://fandompixs.com/'}}"
      ]
     },
     "execution_count": 23,
     "metadata": {},
     "output_type": "execute_result"
    }
   ],
   "source": [
    "import requests\n",
    "\n",
    "result = requests.get('http://127.0.0.1:8000/allstand')\n",
    "result = result.json()\n",
    "result"
   ]
  },
  {
   "cell_type": "code",
   "execution_count": null,
   "metadata": {},
   "outputs": [],
   "source": []
  }
 ],
 "metadata": {
  "kernelspec": {
   "display_name": "Python 3",
   "language": "python",
   "name": "python3"
  },
  "language_info": {
   "codemirror_mode": {
    "name": "ipython",
    "version": 3
   },
   "file_extension": ".py",
   "mimetype": "text/x-python",
   "name": "python",
   "nbconvert_exporter": "python",
   "pygments_lexer": "ipython3",
   "version": "3.10.10"
  },
  "orig_nbformat": 4
 },
 "nbformat": 4,
 "nbformat_minor": 2
}
